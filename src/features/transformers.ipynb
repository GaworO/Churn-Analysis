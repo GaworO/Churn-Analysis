{
 "cells": [
  {
   "cell_type": "code",
   "execution_count": 15,
   "metadata": {},
   "outputs": [],
   "source": [
    "import pandas as pd \n",
    "import numpy as np\n",
    "import matplotlib.pyplot as plt\n",
    "from sklearn.preprocessing import LabelEncoder , OneHotEncoder \n",
    "from sklearn.pipeline import make_pipeline , Pipeline \n",
    "from sklearn.base import BaseEstimator , TransformerMixin\n",
    "from sklearn.compose import ColumnTransformer\n"
   ]
  },
  {
   "cell_type": "code",
   "execution_count": 4,
   "metadata": {},
   "outputs": [],
   "source": [
    "%store -r df"
   ]
  },
  {
   "cell_type": "code",
   "execution_count": 108,
   "metadata": {},
   "outputs": [],
   "source": [
    "class SelectX(BaseEstimator , TransformerMixin):\n",
    "    def __init__(self , columns):\n",
    "        self.columns = columns\n",
    "    def fit(self , X , y=None):\n",
    "        return self\n",
    "    def transform(self , X):\n",
    "        return X[self.columns]"
   ]
  },
  {
   "cell_type": "code",
   "execution_count": 230,
   "metadata": {},
   "outputs": [],
   "source": [
    "categorical_features = ['Geography','Gender']\n",
    "numeric_features = ['CreditScore', 'Age','Tenure',\n",
    "                     'Balance','NumOfProducts','HasCrCard','IsActiveMember',\n",
    "                      'EstimatedSalary']\n",
    "categorical_transformer = Pipeline(steps=[\n",
    "    ('onehot', OneHotEncoder(handle_unknown='ignore'))\n",
    "])\n",
    "numeric_transformer = Pipeline(steps=[\n",
    "    ('numeric' , SelectX(numeric_features)),\n",
    "])"
   ]
  },
  {
   "cell_type": "code",
   "execution_count": 232,
   "metadata": {},
   "outputs": [],
   "source": [
    "encoder = ColumnTransformer([\n",
    "     ('num',numeric_transformer , numeric_features),\n",
    "     ('enc' , categorical_transformer, categorical_features),\n",
    "    \n",
    "] ,  verbose=True)"
   ]
  },
  {
   "cell_type": "code",
   "execution_count": 239,
   "metadata": {},
   "outputs": [
    {
     "name": "stdout",
     "output_type": "stream",
     "text": [
      "[ColumnTransformer] ........... (1 of 2) Processing num, total=   0.0s\n",
      "[ColumnTransformer] ........... (2 of 2) Processing enc, total=   0.0s\n"
     ]
    }
   ],
   "source": [
    "X=encoder.fit_transform(df)"
   ]
  },
  {
   "cell_type": "code",
   "execution_count": 2,
   "metadata": {},
   "outputs": [],
   "source": [
    "%store -r X"
   ]
  },
  {
   "cell_type": "code",
   "execution_count": 3,
   "metadata": {},
   "outputs": [
    {
     "data": {
      "text/plain": [
       "array([[619.,  42.,   2., ...,   0.,   1.,   0.],\n",
       "       [608.,  41.,   1., ...,   1.,   1.,   0.],\n",
       "       [502.,  42.,   8., ...,   0.,   1.,   0.],\n",
       "       ...,\n",
       "       [709.,  36.,   7., ...,   0.,   1.,   0.],\n",
       "       [772.,  42.,   3., ...,   0.,   0.,   1.],\n",
       "       [792.,  28.,   4., ...,   0.,   1.,   0.]])"
      ]
     },
     "execution_count": 3,
     "metadata": {},
     "output_type": "execute_result"
    }
   ],
   "source": []
  },
  {
   "cell_type": "code",
   "execution_count": null,
   "metadata": {},
   "outputs": [],
   "source": []
  },
  {
   "cell_type": "code",
   "execution_count": null,
   "metadata": {},
   "outputs": [],
   "source": []
  }
 ],
 "metadata": {
  "kernelspec": {
   "display_name": "Python 3",
   "language": "python",
   "name": "python3"
  },
  "language_info": {
   "codemirror_mode": {
    "name": "ipython",
    "version": 3
   },
   "file_extension": ".py",
   "mimetype": "text/x-python",
   "name": "python",
   "nbconvert_exporter": "python",
   "pygments_lexer": "ipython3",
   "version": "3.6.9"
  }
 },
 "nbformat": 4,
 "nbformat_minor": 4
}
