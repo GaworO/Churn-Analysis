{
 "cells": [
  {
   "cell_type": "code",
   "execution_count": 30,
   "metadata": {},
   "outputs": [],
   "source": [
    "import pandas as pd\n",
    "import keras\n",
    "from keras.models import Sequential\n",
    "from keras.layers import Dense , Dropout\n",
    "import mlflow\n",
    "import mlflow.sklearn\n",
    "from sklearn.model_selection import train_test_split\n",
    "from sklearn.preprocessing import StandardScaler\n",
    "from sklearn.model_selection import cross_val_score , GridSearchCV\n",
    "from keras.wrappers.scikit_learn import KerasClassifier\n",
    "from sklearn.metrics import confusion_matrix , accuracy_score\n",
    "from keras.callbacks import TensorBoard\n",
    "tensorboard = TensorBoard(log_dir='./logs', histogram_freq=0,\n",
    "                          write_graph=True, write_images=False)\n",
    "# mlflow.set_tracking_uri('http://localhost:5000/')\n",
    "# ann = mlflow.set_experiment('ANN-bank')"
   ]
  },
  {
   "cell_type": "code",
   "execution_count": 6,
   "metadata": {},
   "outputs": [],
   "source": [
    "%store -r df"
   ]
  },
  {
   "cell_type": "code",
   "execution_count": 7,
   "metadata": {},
   "outputs": [],
   "source": [
    "%store -r X"
   ]
  },
  {
   "cell_type": "code",
   "execution_count": 8,
   "metadata": {},
   "outputs": [],
   "source": [
    "y = df[['Exited']]"
   ]
  },
  {
   "cell_type": "code",
   "execution_count": 9,
   "metadata": {},
   "outputs": [
    {
     "data": {
      "text/plain": [
       "((10000, 13), (10000, 1))"
      ]
     },
     "execution_count": 9,
     "metadata": {},
     "output_type": "execute_result"
    }
   ],
   "source": [
    "X.shape , y.shape"
   ]
  },
  {
   "cell_type": "code",
   "execution_count": 10,
   "metadata": {},
   "outputs": [],
   "source": [
    "def split_data(X ,y):    \n",
    "    X_train ,  x_test,y_train ,y_test = train_test_split(X,y, test_size=0.2, random_state=0)\n",
    "    sc = StandardScaler()\n",
    "    X_train = sc.fit_transform(X_train)\n",
    "    x_test = sc.fit_transform(x_test)\n",
    "    return X_train , x_test , y_train , y_test"
   ]
  },
  {
   "cell_type": "code",
   "execution_count": 22,
   "metadata": {},
   "outputs": [],
   "source": [
    "X_train , x_test , y_train , y_test = split_data(X, y)"
   ]
  },
  {
   "cell_type": "code",
   "execution_count": 23,
   "metadata": {},
   "outputs": [
    {
     "data": {
      "text/plain": [
       "((8000, 13), (2000, 13), (8000, 1), (2000, 1))"
      ]
     },
     "execution_count": 23,
     "metadata": {},
     "output_type": "execute_result"
    }
   ],
   "source": [
    "X_train.shape , x_test.shape , y_train.shape , y_test.shape"
   ]
  },
  {
   "cell_type": "code",
   "execution_count": 28,
   "metadata": {},
   "outputs": [],
   "source": [
    "def build_classifier(X_train,y_train,x_test,y_test):\n",
    "\n",
    "\n",
    "        classifier = Sequential()\n",
    "        classifier.add(Dense(output_dim=6 , kernel_initializer='uniform',activation='relu' , input_dim=13))\n",
    "        classifier.add(Dropout(p=0.1))\n",
    "        classifier.add(Dense(output_dim=6 , kernel_initializer='uniform',activation='relu'))\n",
    "        classifier.add(Dropout(p=0.1))\n",
    "        classifier.add(Dense(output_dim=1 , kernel_initializer='uniform' , activation='sigmoid'))\n",
    "        classifier.compile(optimizer='adam', loss='binary_crossentropy' , metrics=['accuracy'])\n",
    "\n",
    "        classifier.fit(X_train,y_train, batch_size=10 , epochs=100, verbose=2 , callbacks=[tensorboard])\n",
    "        y_pred = classifier.predict(x_test)\n",
    "        y_pred = y_pred > 0.5\n",
    "        cm = confusion_matrix(y_test,y_pred)\n",
    "        accuracy = accuracy_score(y_test , y_pred) * 100"
   ]
  },
  {
   "cell_type": "code",
   "execution_count": 29,
   "metadata": {},
   "outputs": [
    {
     "name": "stderr",
     "output_type": "stream",
     "text": [
      "/opt/anaconda3/envs/Churn/lib/python3.6/site-packages/ipykernel_launcher.py:5: UserWarning: Update your `Dense` call to the Keras 2 API: `Dense(kernel_initializer=\"uniform\", activation=\"relu\", input_dim=13, units=6)`\n",
      "  \"\"\"\n",
      "/opt/anaconda3/envs/Churn/lib/python3.6/site-packages/ipykernel_launcher.py:6: UserWarning: Update your `Dropout` call to the Keras 2 API: `Dropout(rate=0.1)`\n",
      "  \n",
      "/opt/anaconda3/envs/Churn/lib/python3.6/site-packages/ipykernel_launcher.py:7: UserWarning: Update your `Dense` call to the Keras 2 API: `Dense(kernel_initializer=\"uniform\", activation=\"relu\", units=6)`\n",
      "  import sys\n",
      "/opt/anaconda3/envs/Churn/lib/python3.6/site-packages/ipykernel_launcher.py:8: UserWarning: Update your `Dropout` call to the Keras 2 API: `Dropout(rate=0.1)`\n",
      "  \n",
      "/opt/anaconda3/envs/Churn/lib/python3.6/site-packages/ipykernel_launcher.py:9: UserWarning: Update your `Dense` call to the Keras 2 API: `Dense(kernel_initializer=\"uniform\", activation=\"sigmoid\", units=1)`\n",
      "  if __name__ == '__main__':\n"
     ]
    },
    {
     "name": "stdout",
     "output_type": "stream",
     "text": [
      "Epoch 1/100\n",
      " - 1s - loss: 0.4915 - accuracy: 0.7958\n",
      "Epoch 2/100\n",
      " - 1s - loss: 0.4358 - accuracy: 0.7960\n",
      "Epoch 3/100\n",
      " - 1s - loss: 0.4317 - accuracy: 0.7960\n",
      "Epoch 4/100\n",
      " - 1s - loss: 0.4291 - accuracy: 0.7960\n",
      "Epoch 5/100\n",
      " - 1s - loss: 0.4281 - accuracy: 0.8037\n",
      "Epoch 6/100\n",
      " - 1s - loss: 0.4279 - accuracy: 0.8204\n",
      "Epoch 7/100\n",
      " - 1s - loss: 0.4245 - accuracy: 0.8260\n",
      "Epoch 8/100\n",
      " - 1s - loss: 0.4237 - accuracy: 0.8279\n",
      "Epoch 9/100\n",
      " - 1s - loss: 0.4257 - accuracy: 0.8284\n",
      "Epoch 10/100\n",
      " - 1s - loss: 0.4237 - accuracy: 0.8282\n",
      "Epoch 11/100\n",
      " - 1s - loss: 0.4232 - accuracy: 0.8271\n",
      "Epoch 12/100\n",
      " - 1s - loss: 0.4224 - accuracy: 0.8307\n",
      "Epoch 13/100\n",
      " - 1s - loss: 0.4233 - accuracy: 0.8305\n",
      "Epoch 14/100\n",
      " - 1s - loss: 0.4208 - accuracy: 0.8295\n",
      "Epoch 15/100\n",
      " - 1s - loss: 0.4239 - accuracy: 0.8288\n",
      "Epoch 16/100\n",
      " - 1s - loss: 0.4201 - accuracy: 0.8300\n",
      "Epoch 17/100\n",
      " - 1s - loss: 0.4221 - accuracy: 0.8296\n",
      "Epoch 18/100\n",
      " - 1s - loss: 0.4223 - accuracy: 0.8296\n",
      "Epoch 19/100\n",
      " - 1s - loss: 0.4213 - accuracy: 0.8300\n",
      "Epoch 20/100\n",
      " - 1s - loss: 0.4220 - accuracy: 0.8326\n",
      "Epoch 21/100\n",
      " - 1s - loss: 0.4226 - accuracy: 0.8316\n",
      "Epoch 22/100\n",
      " - 1s - loss: 0.4195 - accuracy: 0.8304\n",
      "Epoch 23/100\n",
      " - 1s - loss: 0.4190 - accuracy: 0.8300\n",
      "Epoch 24/100\n",
      " - 1s - loss: 0.4216 - accuracy: 0.8305\n",
      "Epoch 25/100\n",
      " - 1s - loss: 0.4239 - accuracy: 0.8310\n",
      "Epoch 26/100\n",
      " - 1s - loss: 0.4216 - accuracy: 0.8320\n",
      "Epoch 27/100\n",
      " - 1s - loss: 0.4196 - accuracy: 0.8305\n",
      "Epoch 28/100\n",
      " - 1s - loss: 0.4206 - accuracy: 0.8285\n",
      "Epoch 29/100\n",
      " - 1s - loss: 0.4185 - accuracy: 0.8332\n",
      "Epoch 30/100\n",
      " - 1s - loss: 0.4211 - accuracy: 0.8321\n",
      "Epoch 31/100\n",
      " - 1s - loss: 0.4215 - accuracy: 0.8320\n",
      "Epoch 32/100\n",
      " - 1s - loss: 0.4207 - accuracy: 0.8316\n",
      "Epoch 33/100\n",
      " - 1s - loss: 0.4216 - accuracy: 0.8344\n",
      "Epoch 34/100\n",
      " - 1s - loss: 0.4186 - accuracy: 0.8326\n",
      "Epoch 35/100\n",
      " - 1s - loss: 0.4222 - accuracy: 0.8295\n",
      "Epoch 36/100\n",
      " - 1s - loss: 0.4209 - accuracy: 0.8317\n",
      "Epoch 37/100\n",
      " - 1s - loss: 0.4220 - accuracy: 0.8326\n",
      "Epoch 38/100\n",
      " - 1s - loss: 0.4215 - accuracy: 0.8306\n",
      "Epoch 39/100\n",
      " - 1s - loss: 0.4224 - accuracy: 0.8300\n",
      "Epoch 40/100\n",
      " - 1s - loss: 0.4193 - accuracy: 0.8314\n",
      "Epoch 41/100\n",
      " - 1s - loss: 0.4213 - accuracy: 0.8313\n",
      "Epoch 42/100\n",
      " - 1s - loss: 0.4215 - accuracy: 0.8305\n",
      "Epoch 43/100\n",
      " - 1s - loss: 0.4203 - accuracy: 0.8301\n",
      "Epoch 44/100\n",
      " - 1s - loss: 0.4228 - accuracy: 0.8325\n",
      "Epoch 45/100\n",
      " - 1s - loss: 0.4217 - accuracy: 0.8322\n",
      "Epoch 46/100\n",
      " - 1s - loss: 0.4210 - accuracy: 0.8322\n",
      "Epoch 47/100\n",
      " - 1s - loss: 0.4190 - accuracy: 0.8306\n",
      "Epoch 48/100\n",
      " - 1s - loss: 0.4221 - accuracy: 0.8339\n",
      "Epoch 49/100\n",
      " - 1s - loss: 0.4203 - accuracy: 0.8341\n",
      "Epoch 50/100\n",
      " - 1s - loss: 0.4203 - accuracy: 0.8321\n",
      "Epoch 51/100\n",
      " - 1s - loss: 0.4197 - accuracy: 0.8326\n",
      "Epoch 52/100\n",
      " - 1s - loss: 0.4183 - accuracy: 0.8295\n",
      "Epoch 53/100\n",
      " - 1s - loss: 0.4238 - accuracy: 0.8321\n",
      "Epoch 54/100\n",
      " - 1s - loss: 0.4206 - accuracy: 0.8322\n",
      "Epoch 55/100\n",
      " - 1s - loss: 0.4167 - accuracy: 0.8317\n",
      "Epoch 56/100\n",
      " - 1s - loss: 0.4190 - accuracy: 0.8301\n",
      "Epoch 57/100\n",
      " - 1s - loss: 0.4208 - accuracy: 0.8306\n",
      "Epoch 58/100\n",
      " - 1s - loss: 0.4191 - accuracy: 0.8350\n",
      "Epoch 59/100\n",
      " - 1s - loss: 0.4219 - accuracy: 0.8332\n",
      "Epoch 60/100\n",
      " - 1s - loss: 0.4188 - accuracy: 0.8307\n",
      "Epoch 61/100\n",
      " - 1s - loss: 0.4183 - accuracy: 0.8341\n",
      "Epoch 62/100\n",
      " - 1s - loss: 0.4201 - accuracy: 0.8316\n",
      "Epoch 63/100\n",
      " - 1s - loss: 0.4220 - accuracy: 0.8338\n",
      "Epoch 64/100\n",
      " - 1s - loss: 0.4196 - accuracy: 0.8314\n",
      "Epoch 65/100\n",
      " - 1s - loss: 0.4172 - accuracy: 0.8304\n",
      "Epoch 66/100\n",
      " - 1s - loss: 0.4185 - accuracy: 0.8324\n",
      "Epoch 67/100\n",
      " - 1s - loss: 0.4201 - accuracy: 0.8304\n",
      "Epoch 68/100\n",
      " - 1s - loss: 0.4169 - accuracy: 0.8309\n",
      "Epoch 69/100\n",
      " - 1s - loss: 0.4201 - accuracy: 0.8345\n",
      "Epoch 70/100\n",
      " - 1s - loss: 0.4210 - accuracy: 0.8311\n",
      "Epoch 71/100\n",
      " - 1s - loss: 0.4235 - accuracy: 0.8325\n",
      "Epoch 72/100\n",
      " - 1s - loss: 0.4202 - accuracy: 0.8329\n",
      "Epoch 73/100\n",
      " - 1s - loss: 0.4205 - accuracy: 0.8329\n",
      "Epoch 74/100\n",
      " - 1s - loss: 0.4209 - accuracy: 0.8355\n",
      "Epoch 75/100\n",
      " - 1s - loss: 0.4188 - accuracy: 0.8320\n",
      "Epoch 76/100\n",
      " - 1s - loss: 0.4179 - accuracy: 0.8301\n",
      "Epoch 77/100\n",
      " - 1s - loss: 0.4189 - accuracy: 0.8338\n",
      "Epoch 78/100\n",
      " - 1s - loss: 0.4190 - accuracy: 0.8332\n",
      "Epoch 79/100\n",
      " - 1s - loss: 0.4195 - accuracy: 0.8330\n",
      "Epoch 80/100\n",
      " - 1s - loss: 0.4166 - accuracy: 0.8330\n",
      "Epoch 81/100\n",
      " - 1s - loss: 0.4207 - accuracy: 0.8347\n",
      "Epoch 82/100\n",
      " - 1s - loss: 0.4210 - accuracy: 0.8325\n",
      "Epoch 83/100\n",
      " - 1s - loss: 0.4210 - accuracy: 0.8350\n",
      "Epoch 84/100\n",
      " - 1s - loss: 0.4189 - accuracy: 0.8336\n",
      "Epoch 85/100\n",
      " - 1s - loss: 0.4195 - accuracy: 0.8326\n",
      "Epoch 86/100\n",
      " - 1s - loss: 0.4231 - accuracy: 0.8325\n",
      "Epoch 87/100\n",
      " - 1s - loss: 0.4199 - accuracy: 0.8316\n",
      "Epoch 88/100\n",
      " - 1s - loss: 0.4229 - accuracy: 0.8328\n",
      "Epoch 89/100\n",
      " - 1s - loss: 0.4188 - accuracy: 0.8314\n",
      "Epoch 90/100\n",
      " - 1s - loss: 0.4197 - accuracy: 0.8298\n",
      "Epoch 91/100\n",
      " - 1s - loss: 0.4196 - accuracy: 0.8326\n",
      "Epoch 92/100\n",
      " - 1s - loss: 0.4180 - accuracy: 0.8326\n",
      "Epoch 93/100\n",
      " - 1s - loss: 0.4179 - accuracy: 0.8335\n",
      "Epoch 94/100\n",
      " - 1s - loss: 0.4212 - accuracy: 0.8334\n",
      "Epoch 95/100\n",
      " - 1s - loss: 0.4197 - accuracy: 0.8328\n",
      "Epoch 96/100\n",
      " - 1s - loss: 0.4213 - accuracy: 0.8340\n",
      "Epoch 97/100\n",
      " - 1s - loss: 0.4197 - accuracy: 0.8330\n",
      "Epoch 98/100\n",
      " - 1s - loss: 0.4211 - accuracy: 0.8331\n",
      "Epoch 99/100\n",
      " - 1s - loss: 0.4170 - accuracy: 0.8324\n",
      "Epoch 100/100\n",
      " - 1s - loss: 0.4177 - accuracy: 0.8340\n"
     ]
    }
   ],
   "source": [
    "build_classifier(X_train , y_train , x_test, y_test)"
   ]
  },
  {
   "cell_type": "code",
   "execution_count": 12,
   "metadata": {},
   "outputs": [],
   "source": [
    "def build_kfold_classifier():\n",
    "        classifier_kfold= Sequential()\n",
    "        classifier_kfold.add(Dense(output_dim=6 , kernel_initializer='uniform',activation='relu' , input_dim=13))\n",
    "        classifier_kfold.add(Dense(output_dim=6 , kernel_initializer='uniform',activation='relu'))\n",
    "        classifier_kfold.add(Dense(output_dim=1 , kernel_initializer='uniform' , activation='sigmoid'))\n",
    "        classifier_kfold.compile(optimizer='adam', loss='binary_crossentropy' , metrics=['accuracy'])\n",
    "        return classifier_kfold"
   ]
  },
  {
   "cell_type": "code",
   "execution_count": 13,
   "metadata": {},
   "outputs": [
    {
     "name": "stderr",
     "output_type": "stream",
     "text": [
      "[Parallel(n_jobs=-1)]: Using backend LokyBackend with 4 concurrent workers.\n",
      "[Parallel(n_jobs=-1)]: Done  10 out of  10 | elapsed:  1.4min finished\n"
     ]
    }
   ],
   "source": [
    "classifier_kfold_wrapper = KerasClassifier(build_fn=build_kfold_classifier , \n",
    "                                                   batch_size=10 , epochs=20, verbose=2)\n",
    "accu = cross_val_score(estimator=classifier_kfold_wrapper , \n",
    "                                X=X_train , y=y_train , cv=10 , verbose=1 , n_jobs=-1)\n",
    "        \n",
    "       \n",
    "        \n",
    "        \n",
    "\n",
    "\n",
    "    "
   ]
  },
  {
   "cell_type": "code",
   "execution_count": 14,
   "metadata": {},
   "outputs": [
    {
     "data": {
      "text/plain": [
       "array([0.85874999, 0.83749998, 0.82875001, 0.82875001, 0.85624999,\n",
       "       0.83375001, 0.84125   , 0.82499999, 0.81124997, 0.85500002])"
      ]
     },
     "execution_count": 14,
     "metadata": {},
     "output_type": "execute_result"
    }
   ],
   "source": [
    "accu"
   ]
  },
  {
   "cell_type": "code",
   "execution_count": 17,
   "metadata": {},
   "outputs": [],
   "source": [
    "mean = accu.mean()"
   ]
  },
  {
   "cell_type": "code",
   "execution_count": 19,
   "metadata": {},
   "outputs": [],
   "source": [
    "variance = accu.std()"
   ]
  },
  {
   "cell_type": "code",
   "execution_count": 20,
   "metadata": {},
   "outputs": [
    {
     "data": {
      "text/plain": [
       "(0.014614315297194522, 0.8376249969005585)"
      ]
     },
     "execution_count": 20,
     "metadata": {},
     "output_type": "execute_result"
    }
   ],
   "source": [
    "variance , mean"
   ]
  },
  {
   "cell_type": "code",
   "execution_count": 33,
   "metadata": {},
   "outputs": [],
   "source": [
    "def grid_search(optimizer):\n",
    "        classifier = Sequential()\n",
    "        classifier.add(Dense(output_dim=6 , kernel_initializer='uniform',activation='relu' , input_dim=13))\n",
    "        classifier.add(Dropout(p=0.1))\n",
    "        classifier.add(Dense(output_dim=6 , kernel_initializer='uniform',activation='relu'))\n",
    "        classifier.add(Dropout(p=0.1))\n",
    "        classifier.add(Dense(output_dim=1 , kernel_initializer='uniform' , activation='sigmoid'))\n",
    "        classifier.compile(optimizer=optimizer, loss='binary_crossentropy' , metrics=['accuracy'])\n",
    "        return classifier"
   ]
  },
  {
   "cell_type": "code",
   "execution_count": 36,
   "metadata": {},
   "outputs": [],
   "source": [
    "classifier_grid_search = KerasClassifier(build_fn=grid_search)"
   ]
  },
  {
   "cell_type": "code",
   "execution_count": 37,
   "metadata": {},
   "outputs": [],
   "source": [
    "parameters = {'batch_size': [25,32] , \n",
    "               'nb_epoch': [100,500],\n",
    "               'optimizer': ['adam','rmsprop']}"
   ]
  },
  {
   "cell_type": "code",
   "execution_count": 41,
   "metadata": {},
   "outputs": [
    {
     "name": "stderr",
     "output_type": "stream",
     "text": [
      "/opt/anaconda3/envs/Churn/lib/python3.6/site-packages/ipykernel_launcher.py:3: UserWarning: Update your `Dense` call to the Keras 2 API: `Dense(kernel_initializer=\"uniform\", activation=\"relu\", input_dim=13, units=6)`\n",
      "  This is separate from the ipykernel package so we can avoid doing imports until\n",
      "/opt/anaconda3/envs/Churn/lib/python3.6/site-packages/ipykernel_launcher.py:4: UserWarning: Update your `Dropout` call to the Keras 2 API: `Dropout(rate=0.1)`\n",
      "  after removing the cwd from sys.path.\n",
      "/opt/anaconda3/envs/Churn/lib/python3.6/site-packages/ipykernel_launcher.py:5: UserWarning: Update your `Dense` call to the Keras 2 API: `Dense(kernel_initializer=\"uniform\", activation=\"relu\", units=6)`\n",
      "  \"\"\"\n",
      "/opt/anaconda3/envs/Churn/lib/python3.6/site-packages/ipykernel_launcher.py:6: UserWarning: Update your `Dropout` call to the Keras 2 API: `Dropout(rate=0.1)`\n",
      "  \n",
      "/opt/anaconda3/envs/Churn/lib/python3.6/site-packages/ipykernel_launcher.py:7: UserWarning: Update your `Dense` call to the Keras 2 API: `Dense(kernel_initializer=\"uniform\", activation=\"sigmoid\", units=1)`\n",
      "  import sys\n"
     ]
    },
    {
     "name": "stdout",
     "output_type": "stream",
     "text": [
      "Epoch 1/1\n",
      "4000/4000 [==============================] - 1s 134us/step - loss: 0.6214 - accuracy: 0.7960\n",
      "Epoch 1/1\n",
      "4000/4000 [==============================] - 1s 139us/step - loss: 0.6476 - accuracy: 0.7918\n",
      "Epoch 1/1\n",
      "4000/4000 [==============================] - 0s 123us/step - loss: 0.6224 - accuracy: 0.7970\n",
      "Epoch 1/1\n",
      "4000/4000 [==============================] - 0s 96us/step - loss: 0.6585 - accuracy: 0.7908\n",
      "Epoch 1/1\n",
      "4000/4000 [==============================] - 0s 115us/step - loss: 0.6393 - accuracy: 0.7928\n",
      "Epoch 1/1\n",
      "4000/4000 [==============================] - 0s 118us/step - loss: 0.6387 - accuracy: 0.7918\n",
      "Epoch 1/1\n",
      "4000/4000 [==============================] - 0s 105us/step - loss: 0.6197 - accuracy: 0.7970\n",
      "Epoch 1/1\n",
      "4000/4000 [==============================] - 0s 100us/step - loss: 0.6463 - accuracy: 0.7930\n",
      "Epoch 1/1\n",
      "4000/4000 [==============================] - 0s 101us/step - loss: 0.6709 - accuracy: 0.7940\n",
      "Epoch 1/1\n",
      "4000/4000 [==============================] - 0s 100us/step - loss: 0.6410 - accuracy: 0.7945\n",
      "Epoch 1/1\n",
      "4000/4000 [==============================] - 0s 90us/step - loss: 0.6566 - accuracy: 0.7947\n",
      "Epoch 1/1\n",
      "4000/4000 [==============================] - 0s 90us/step - loss: 0.6669 - accuracy: 0.7910\n",
      "Epoch 1/1\n",
      "4000/4000 [==============================] - 0s 107us/step - loss: 0.6591 - accuracy: 0.7935\n",
      "Epoch 1/1\n",
      "4000/4000 [==============================] - 0s 101us/step - loss: 0.6559 - accuracy: 0.7925\n",
      "Epoch 1/1\n",
      "4000/4000 [==============================] - 0s 91us/step - loss: 0.6525 - accuracy: 0.7960\n",
      "Epoch 1/1\n",
      "4000/4000 [==============================] - 0s 92us/step - loss: 0.6441 - accuracy: 0.7947\n",
      "Epoch 1/1\n",
      "8000/8000 [==============================] - 1s 83us/step - loss: 0.5504 - accuracy: 0.7954\n"
     ]
    }
   ],
   "source": [
    "grid_search = GridSearchCV(estimator=classifier_grid_search ,\n",
    "                           param_grid=parameters , \n",
    "                           scoring='accuracy',\n",
    "                           cv=2).fit(X_train , y_train)"
   ]
  },
  {
   "cell_type": "code",
   "execution_count": 43,
   "metadata": {},
   "outputs": [],
   "source": [
    "best_parameters = grid_search.best_params_\n",
    "best_accuracy = grid_search.best_score_"
   ]
  },
  {
   "cell_type": "code",
   "execution_count": 44,
   "metadata": {},
   "outputs": [
    {
     "data": {
      "text/plain": [
       "{'batch_size': 25, 'nb_epoch': 100, 'optimizer': 'adam'}"
      ]
     },
     "execution_count": 44,
     "metadata": {},
     "output_type": "execute_result"
    }
   ],
   "source": [
    "best_parameters"
   ]
  },
  {
   "cell_type": "code",
   "execution_count": 45,
   "metadata": {},
   "outputs": [
    {
     "data": {
      "text/plain": [
       "0.796"
      ]
     },
     "execution_count": 45,
     "metadata": {},
     "output_type": "execute_result"
    }
   ],
   "source": [
    "best_accuracy"
   ]
  }
 ],
 "metadata": {
  "kernelspec": {
   "display_name": "Python 3",
   "language": "python",
   "name": "python3"
  },
  "language_info": {
   "codemirror_mode": {
    "name": "ipython",
    "version": 3
   },
   "file_extension": ".py",
   "mimetype": "text/x-python",
   "name": "python",
   "nbconvert_exporter": "python",
   "pygments_lexer": "ipython3",
   "version": "3.6.9"
  }
 },
 "nbformat": 4,
 "nbformat_minor": 4
}
