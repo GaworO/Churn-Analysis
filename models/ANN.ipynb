{
 "cells": [
  {
   "cell_type": "code",
   "execution_count": 11,
   "metadata": {},
   "outputs": [],
   "source": [
    "import pandas as pd\n",
    "import keras\n",
    "from keras.models import Sequential\n",
    "from keras.layers import Dense\n",
    "import mlflow\n",
    "import mlflow.sklearn\n",
    "from sklearn.model_selection import train_test_split\n",
    "from sklearn.preprocessing import StandardScaler\n",
    "from sklearn.model_selection import cross_val_score\n",
    "from keras.wrappers.scikit_learn import KerasClassifier\n",
    "from sklearn.metrics import confusion_matrix , accuracy_score\n",
    "mlflow.set_tracking_uri('http://localhost:5000/')\n",
    "ann = mlflow.set_experiment('ANN-bank')"
   ]
  },
  {
   "cell_type": "code",
   "execution_count": 18,
   "metadata": {},
   "outputs": [],
   "source": [
    "%store -r df"
   ]
  },
  {
   "cell_type": "code",
   "execution_count": 19,
   "metadata": {},
   "outputs": [],
   "source": [
    "%store -r X"
   ]
  },
  {
   "cell_type": "code",
   "execution_count": 20,
   "metadata": {},
   "outputs": [],
   "source": [
    "y = df[['Exited']]"
   ]
  },
  {
   "cell_type": "code",
   "execution_count": 21,
   "metadata": {},
   "outputs": [
    {
     "data": {
      "text/plain": [
       "((10000, 13), (10000, 1))"
      ]
     },
     "execution_count": 21,
     "metadata": {},
     "output_type": "execute_result"
    }
   ],
   "source": [
    "X.shape , y.shape"
   ]
  },
  {
   "cell_type": "code",
   "execution_count": 22,
   "metadata": {},
   "outputs": [],
   "source": [
    "def split_data(X ,y):    \n",
    "    X_train ,  x_test,y_train ,y_test = train_test_split(X,y, test_size=0.2, random_state=0)\n",
    "    sc = StandardScaler()\n",
    "    X_train = sc.fit_transform(X_train)\n",
    "    x_test = sc.fit_transform(x_test)\n",
    "    return X_train , x_test , y_train , y_test"
   ]
  },
  {
   "cell_type": "code",
   "execution_count": 23,
   "metadata": {},
   "outputs": [],
   "source": [
    "X_train , x_test , y_train , y_test = split_data(X, y)"
   ]
  },
  {
   "cell_type": "code",
   "execution_count": 17,
   "metadata": {},
   "outputs": [
    {
     "data": {
      "text/plain": [
       "((8000, 13), (2000, 13), (8000, 1), (2000, 1))"
      ]
     },
     "execution_count": 17,
     "metadata": {},
     "output_type": "execute_result"
    }
   ],
   "source": [
    "X_train.shape , x_test.shape , y_train.shape , y_test.shape"
   ]
  },
  {
   "cell_type": "code",
   "execution_count": 48,
   "metadata": {},
   "outputs": [],
   "source": [
    "def build_classifier(X_train,y_train,x_test,y_test):\n",
    "    with mlflow.start_run(experiment_id=ann):\n",
    "\n",
    "        classifier = Sequential()\n",
    "        classifier.add(Dense(output_dim=6 , kernel_initializer='uniform',activation='relu' , input_dim=13))\n",
    "        classifier.add(Dense(output_dim=6 , kernel_initializer='uniform',activation='relu'))\n",
    "        classifier.add(Dense(output_dim=1 , kernel_initializer='uniform' , activation='sigmoid'))\n",
    "        classifier.compile(optimizer='adam', loss='binary_crossentropy' , metrics=['accuracy'])\n",
    "\n",
    "        classifier.fit(X_train,y_train, batch_size=10 , epochs=100, verbose=2)\n",
    "        y_pred = classifier.predict(x_test)\n",
    "        y_pred = y_pred > 0.5\n",
    "        cm = confusion_matrix(y_test,y_pred)\n",
    "        accuracy = accuracy_score(y_test , y_pred) * 100\n",
    "        mlflow.log_metric(\"accuracy\", accuracy)\n",
    "        print('Confusion Matrix:',cm)\n",
    "\n",
    "        mlflow.sklearn.log_model(classifier, \"ANN-Bank\")"
   ]
  },
  {
   "cell_type": "code",
   "execution_count": null,
   "metadata": {},
   "outputs": [],
   "source": [
    "build_classifier(X_train , x_test , y_train , y_test)"
   ]
  },
  {
   "cell_type": "code",
   "execution_count": 24,
   "metadata": {},
   "outputs": [],
   "source": [
    "def build_kfold_classifier():\n",
    "        classifier_kfold= Sequential()\n",
    "        classifier_kfold.add(Dense(output_dim=6 , kernel_initializer='uniform',activation='relu' , input_dim=13))\n",
    "        classifier_kfold.add(Dense(output_dim=6 , kernel_initializer='uniform',activation='relu'))\n",
    "        classifier_kfold.add(Dense(output_dim=1 , kernel_initializer='uniform' , activation='sigmoid'))\n",
    "        classifier_kfold.compile(optimizer='adam', loss='binary_crossentropy' , metrics=['accuracy'])\n",
    "        return classifier_kfold"
   ]
  },
  {
   "cell_type": "code",
   "execution_count": 31,
   "metadata": {},
   "outputs": [
    {
     "name": "stderr",
     "output_type": "stream",
     "text": [
      "[Parallel(n_jobs=-1)]: Using backend LokyBackend with 4 concurrent workers.\n",
      "[Parallel(n_jobs=-1)]: Done  10 out of  10 | elapsed:  1.5min finished\n"
     ]
    }
   ],
   "source": [
    "with mlflow.start_run(experiment_id=ann):\n",
    "        classifier_kfold_wrapper = KerasClassifier(build_fn=build_kfold_classifier , \n",
    "                                                   batch_size=10 , epochs=20, verbose=2)\n",
    "        accu = cross_val_score(estimator=classifier_kfold_wrapper , \n",
    "                                X=X_train , y=y_train , cv=10 , verbose=1 , n_jobs=-1)\n",
    "        \n",
    "       \n",
    "        \n",
    "        \n",
    "        mlflow.sklearn.log_model(classifier_kfold_wrapper, \"ANN-Bank\")\n",
    "\n",
    "    "
   ]
  }
 ],
 "metadata": {
  "kernelspec": {
   "display_name": "Python 3",
   "language": "python",
   "name": "python3"
  },
  "language_info": {
   "codemirror_mode": {
    "name": "ipython",
    "version": 3
   },
   "file_extension": ".py",
   "mimetype": "text/x-python",
   "name": "python",
   "nbconvert_exporter": "python",
   "pygments_lexer": "ipython3",
   "version": "3.6.9"
  }
 },
 "nbformat": 4,
 "nbformat_minor": 4
}
